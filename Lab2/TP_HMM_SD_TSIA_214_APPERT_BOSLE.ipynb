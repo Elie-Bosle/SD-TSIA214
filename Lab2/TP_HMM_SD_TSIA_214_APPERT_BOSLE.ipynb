{
  "cells": [
    {
      "cell_type": "markdown",
      "metadata": {
        "id": "4UJNuGLhkiwX"
      },
      "source": [
        "# Text segmentation using Hidden Markov Models"
      ]
    },
    {
      "cell_type": "code",
      "execution_count": 41,
      "metadata": {
        "id": "jUwmZmpCkiwb"
      },
      "outputs": [],
      "source": [
        "import os\n",
        "import glob\n",
        "import numpy as np\n",
        "from visualize_segmentation import visualize_segmentation"
      ]
    },
    {
      "cell_type": "code",
      "execution_count": 48,
      "metadata": {
        "id": "jzPTl4NTkiwd"
      },
      "outputs": [],
      "source": [
        "ROOT = os.path.abspath('/Users/elie/Desktop/TelecomParis/S8/SD-TSIA214/Data and scripts for HMM Training Session-20240312/')\n",
        "\n",
        "PERL_DIR = os.path.join(ROOT,'PerlScriptAndModel')\n",
        "RES_DIR = os.path.join(ROOT,'Viterbi_Res')\n",
        "SEGMENTED_DIR = os.path.join(ROOT, 'segmented')"
      ]
    },
    {
      "cell_type": "markdown",
      "metadata": {
        "id": "56QGK_owMEP_"
      },
      "source": [
        "### Question 1"
      ]
    },
    {
      "cell_type": "markdown",
      "metadata": {
        "id": "xDXYI1X1MHwE"
      },
      "source": [
        "Since it is assumed that each email contains a header and the decoding necessarily begins in state 1, the initial probability vector, denoted as $\\pi$, will be:\n",
        "\n",
        "$\\pi = \\begin{pmatrix}\n",
        "1 \\\\\n",
        "0  \n",
        " \\end{pmatrix}$"
      ]
    },
    {
      "cell_type": "markdown",
      "metadata": {
        "id": "DeKf3w6yNUdr"
      },
      "source": [
        "### Question 2"
      ]
    },
    {
      "cell_type": "markdown",
      "metadata": {
        "id": "TBVfChjrNWZA"
      },
      "source": [
        "The probability to move from state 1 to state 2 (transitioning from header to body) is given by the element in the first row and second column, which is approximately 0.000781921964187974.\n",
        "The probability to remain in state 2 (stay in the body) is given by the element in the second row and second column, which is 1.\n",
        "The higher probability is to remain in state 2 (body) because once the model enters the body state, it stays there for the entirety of the email since each email contains exactly one body. Therefore, the transition probability from state 2 to itself is 1.\n",
        "The lower probability to move from state 2 to state 1 (from body to header) because an email have only one header and one body and as seen before the state 1 is the beginning state, so if we are in state 2 we can't move to state 1 because we already reach it in the intial state."
      ]
    },
    {
      "cell_type": "markdown",
      "metadata": {
        "id": "AWEomBVMOWZJ"
      },
      "source": [
        "### Question3"
      ]
    },
    {
      "cell_type": "markdown",
      "metadata": {
        "id": "p8INqAMsOgQE"
      },
      "source": [
        "The size of the matrix B is determined by the number of states (2) and the number of different characters $N$. Since each state (header and body) is characterized by a discrete probability distribution on the characters, B will have 2 rows (corresponding to the states) and $N$ columns (corresponding to the characters).\n",
        "So, the size of B is $2\\times N$. Here $N=256$ because it is ASCII.\n",
        "Therefore, the size is $2\\times 256$."
      ]
    },
    {
      "cell_type": "markdown",
      "metadata": {
        "id": "inW1IA7Wkiwe"
      },
      "source": [
        "### Coding/Decoding Mails"
      ]
    },
    {
      "cell_type": "code",
      "execution_count": 39,
      "metadata": {
        "id": "tDFq6QMdkiwf"
      },
      "outputs": [],
      "source": [
        "DATA_DIR = os.path.join(ROOT,'dat')\n",
        "\n",
        "# Iterate through files and load the text\n",
        "def files_iter(data_dir, with_name=False):\n",
        "    files = glob.glob('{}/*.dat'.format((data_dir)))\n",
        "    if with_name:\n",
        "        for f in files:\n",
        "            # Get the filename\n",
        "            name = f.split('/')[-1].split('.')[0]\n",
        "            # Return filename and associated text\n",
        "            yield name, np.loadtxt(f)\n",
        "    else:\n",
        "        for f in files :\n",
        "            yield np.loadtxt(f)"
      ]
    },
    {
      "cell_type": "code",
      "execution_count": 40,
      "metadata": {
        "id": "Kgfd1Z5dkiwf"
      },
      "outputs": [],
      "source": [
        "# And we get a generator that will allow us to iterate through the mails\n",
        "mail_iter = files_iter(DATA_DIR, with_name=True)"
      ]
    },
    {
      "cell_type": "markdown",
      "metadata": {
        "id": "txn83dSEkiwg"
      },
      "source": [
        "### Distribution files"
      ]
    },
    {
      "cell_type": "code",
      "execution_count": 5,
      "metadata": {
        "id": "-m0-h-8jkiwh"
      },
      "outputs": [],
      "source": [
        "PERL_DIR = '/Users/elie/Desktop/TelecomParis/S8/SD-TSIA214/Data and scripts for HMM Training Session-20240312/PerlScriptAndModel/'\n",
        "\n",
        "# Writing a function to get the probability data\n",
        "def get_emission_prob(perl_dir):\n",
        "    prob_data = np.loadtxt(os.path.join(perl_dir, 'P.text'))\n",
        "    return prob_data"
      ]
    },
    {
      "cell_type": "code",
      "execution_count": 6,
      "metadata": {
        "id": "Uvq8rj8okiwi"
      },
      "outputs": [],
      "source": [
        "# Inputs to the Viterbi function\n",
        "trans = np.array([[0.999218078035812, 0.000781921964187974], [0, 1]]) #give in the subject\n",
        "emission_prob = get_emission_prob(PERL_DIR) #calculate in the previous question\n",
        "states = [1, 2] #give inthe subject\n",
        "start_prob = [1, 0] #question 1"
      ]
    },
    {
      "cell_type": "markdown",
      "metadata": {
        "id": "MLE8bwtSkiwi"
      },
      "source": [
        "### To implement:"
      ]
    },
    {
      "cell_type": "code",
      "execution_count": 7,
      "metadata": {
        "id": "88Ac0FsWkiwj"
      },
      "outputs": [],
      "source": [
        "# Viterbi function\n",
        "def viterbi(obs, states, start_prob, trans, emission_prob):\n",
        "    \"\"\"\n",
        "        Viterbi Algorithm Implementation\n",
        "\n",
        "        Keyword arguments:\n",
        "            - obs: sequence of observation\n",
        "            - states:list of states\n",
        "            - start_prob:vector of the initial probabilities\n",
        "            - trans: transition matrix\n",
        "            - emission_prob: emission probability matrix\n",
        "        Returns:\n",
        "            - seq: sequence of state\n",
        "    \"\"\"\n",
        "\n",
        "    # Avoid underflow: use the logarithm !\n",
        "    # Avoid 0 in logarithm: use a small constant !\n",
        "    small = 1e-10\n",
        "    start_prob = [np.log(p + small) for p in start_prob]\n",
        "    trans = np.log(trans + small)\n",
        "    emission_prob = np.log(emission_prob + small)\n",
        "\n",
        "    T = len(obs) # Number of observations\n",
        "    N = len(states) # Number of model states\n",
        "\n",
        "    # Initialisation\n",
        "    log_l = np.zeros((N, T))\n",
        "    bcktr = np.zeros((N, T))\n",
        "    # Viterbi\n",
        "    # Forward loop:\n",
        "    log_l[:, 0]= start_prob + emission_prob[int(obs[0]), :]\n",
        "    for t in range(1, T):\n",
        "        for j in range(N):\n",
        "            log_l[j, t] = np.max(log_l[:, t - 1] + trans[:, j]) + emission_prob[int(obs[t]), j]\n",
        "            bcktr[j, t] = np.argmax(log_l[:, t - 1] + trans[:, j] + emission_prob[int(obs[t]), j])\n",
        "    # Backward loop\n",
        "    path = np.zeros(T, dtype=int)\n",
        "    path[-1] = np.argmax(log_l[:, -1])\n",
        "    for i in range(T - 2, -1, -1):\n",
        "        path[i] = bcktr[path[i + 1], i + 1]\n",
        "\n",
        "    return path"
      ]
    },
    {
      "cell_type": "code",
      "execution_count": 14,
      "metadata": {
        "id": "w7GpT1FDkiwk"
      },
      "outputs": [],
      "source": [
        "RES_DIR = '/Users/elie/Desktop/TelecomParis/S8/SD-TSIA214/Data and scripts for HMM Training Session-20240312/Viterbi_Res'\n",
        "\n",
        "# Creating a directory to put the result of the viterbi function\n",
        "if not os.path.exists(RES_DIR):\n",
        "    os.mkdir(RES_DIR)\n",
        "\n",
        "# Function that will write a viterbi path for a mail in a dedicated result file\n",
        "def create_viterbi_path_file(mail_name, viterbi_path):\n",
        "    with open('{}/{}_path.txt'.format(RES_DIR, mail_name), 'w') as f:\n",
        "        f.write(''.join([str(c) for c in viterbi_path]))"
      ]
    },
    {
      "cell_type": "code",
      "execution_count": 15,
      "metadata": {
        "id": "WMQNSHJEkiwl"
      },
      "outputs": [],
      "source": [
        "# Using our generator, we get the mail names and data\n",
        "for name_file, data in mail_iter:\n",
        "    # Find out the viterbi path using viterbi\n",
        "    viterbi_path = viterbi(data, states, start_prob, trans, emission_prob)\n",
        "    file_path  = '/Users/elie/Desktop/TelecomParis/S8/SD-TSIA214/Data and scripts for HMM Training Session-20240312/Viterbi_Res' + str(name_file[:-4]) + '_path.txt'\n",
        "    if not os.path.exists(file_path):\n",
        "        print(\"File : \", name_file, \"isnt in the folder\")\n",
        "    # Put it in the result file\n",
        "    create_viterbi_path_file(name_file, viterbi_path)"
      ]
    },
    {
      "cell_type": "markdown",
      "metadata": {},
      "source": [
        "Le mail 11 et le mail 30 font partie des seuls où on fait une transition 1 vers 0, ce qui a d'après notre code uen ifnime probabilité de se faire."
      ]
    },
    {
      "cell_type": "markdown",
      "metadata": {
        "id": "TjfRXq2Hkiwm"
      },
      "source": [
        "### Visualizing segmentation"
      ]
    },
    {
      "cell_type": "code",
      "execution_count": 44,
      "metadata": {
        "id": "gvjMdMS1kiwn"
      },
      "outputs": [],
      "source": [
        "# Writing a function to go into the directory and execute the perl script \"segment.pl\" on the mail in the given path\n",
        "def exec_perl_script(mail, path):\n",
        "    res = !cd {PERL_DIR}; perl segment.pl {mail} {path}\n",
        "    return res\n",
        "\n",
        "# Writing a function getting the original mail, the result of viterbi, and applying the segmentation script\n",
        "# Then putting the result\n",
        "def segment_mail(mail_name, data_dir, output_dir):\n",
        "    # Get the full path of the mail\n",
        "    mail = os.path.join(data_dir, mail_name + '.txt')\n",
        "    # Get the full path of the result\n",
        "    path = os.path.join(output_dir, mail_name + '_path.txt')\n",
        "    # Execute the visualization script\n",
        "    formatted_mail = exec_perl_script(mail, path)\n",
        "    # Get the results\n",
        "    formatted_mail_text = open(path).readlines()\n",
        "    # Go through the resulting text until the cutting line\n",
        "    for i, line in enumerate(formatted_mail_text):\n",
        "        # If this was not the last line, return the text cut in to parts: header and body\n",
        "        # If not, it's just a header\n",
        "        print(\"blabla: \",line.strip())\n",
        "        if line.strip() == \"===== cut here\":\n",
        "            # If this was not the last line, return the text cut in to parts: header and body\n",
        "            print(\"ca cut\")\n",
        "            header = formatted_mail_text[:i]\n",
        "            body = formatted_mail_text[i+1:]\n",
        "            return header, body\n",
        "    return formatted_mail_text, []"
      ]
    },
    {
      "cell_type": "code",
      "execution_count": 49,
      "metadata": {},
      "outputs": [],
      "source": [
        "def segment_mail_new(mail_name, data_dir, output_dir):\n",
        "    # Get the full path of the mail\n",
        "    mail = os.path.join(data_dir, mail_name + '.txt')\n",
        "    # Get the full path of the result\n",
        "    path = os.path.join(output_dir, mail_name + '_path.txt')\n",
        "    # Execute the visualization script\n",
        "    # Read the result\n",
        "    with open(path, 'r') as f:\n",
        "        path_read = f.read()\n",
        "        path = [int(c) for c in path_read]\n",
        "\n",
        "    path = np.array(path)\n",
        "\n",
        "    # Get the full path of the segmented mail\n",
        "    segmented_filename = os.path.join(SEGMENTED_DIR, '{}_segmented.txt'.format(mail_name))\n",
        "    # Execute the segmentation script\n",
        "    visualize_segmentation(mail, path, segmented_filename)\n",
        "    # Get the results\n",
        "    with open(segmented_filename, 'r') as f:\n",
        "        segmented_mail = f.read()\n",
        "    # Split the segmented mail into header and body based on the cutting line\n",
        "    cutting_line = \"===== cut here\"\n",
        "    if cutting_line in segmented_mail:\n",
        "        header, body = segmented_mail.split(cutting_line, 1)\n",
        "        return header, body\n",
        "    else:\n",
        "        return segmented_mail, None"
      ]
    },
    {
      "cell_type": "code",
      "execution_count": 54,
      "metadata": {
        "id": "4IxX8wb2kiwo"
      },
      "outputs": [
        {
          "name": "stdout",
          "output_type": "stream",
          "text": [
            "Mail: mail30\n",
            "Header: From ilug-admin@linux.ie  Fri Aug 23 11:07:51 2002\n",
            "Return-Path: <ilug-admin@linux.ie>\n",
            "Delivered-To: zzzz@localhost.netnoteinc.com\n",
            "Received: from localhost (localhost [127.0.0.1])\n",
            "\tby phobos.labs.netnoteinc.com (Postfix) with ESMTP id 7419C4416C\n",
            "\tfor <zzzz@localhost>; Fri, 23 Aug 2002 06:06:33 -0400 (EDT)\n",
            "Received: from phobos [127.0.0.1]\n",
            "\tby localhost with IMAP (fetchmail-5.9.0)\n",
            "\tfor zzzz@localhost (single-drop); Fri, 23 Aug 2002 11:06:33 +0100 (IST)\n",
            "Received: from lugh.tuatha.org (root@lugh.tuatha.org [194.125.145.45]) by\n",
            "    dogma.slashnull.org (8.11.6/8.11.6) with ESMTP id g7MJtgZ22471 for\n",
            "    <zzzz-ilug@spamassassin.taint.org>; Thu, 22 Aug 2002 20:55:42 +0100\n",
            "Received: from lugh (root@localhost [127.0.0.1]) by lugh.tuatha.org\n",
            "    (8.9.3/8.9.3) with ESMTP id UAA19436; Thu, 22 Aug 2002 20:53:00 +0100\n",
            "X-Authentication-Warning: lugh.tuatha.org: Host root@localhost [127.0.0.1]\n",
            "    claimed to be lugh\n",
            "Received: from mail02.svc.cra.dublin.eircom.net\n",
            "    (mail02.svc.cra.dublin.eircom.net [159.134.118.18]) by lugh.tuatha.org\n",
            "    (8.9.3/8.9.3) with SMTP id UAA19403 for <ilug@linux.ie>; Thu,\n",
            "    22 Aug 2002 20:52:53 +0100\n",
            "Received: (qmail 50842 messnum 34651 invoked from\n",
            "    network[159.134.205.176/p432.as1.athlone1.eircom.net]); 22 Aug 2002\n",
            "    19:52:16 -0000\n",
            "Received: from p432.as1.athlone1.eircom.net (HELO darkstar)\n",
            "    (159.134.205.176) by mail02.svc.cra.dublin.eircom.net (qp 50842) with SMTP;\n",
            "    22 Aug 2002 19:52:16 -0000\n",
            "Content-Type: text/plain; charset=\"iso-8859-15\"\n",
            "From: Ciaran Johnston <cj@nologic.org>\n",
            "Organization: nologic.org\n",
            "To: <ilug@linux.ie>\n",
            "Subject: Re: [ILUG] Formatting a windows partition from Linux\n",
            "Date: Thu, 22 Aug 2002 20:58:07 +0100\n",
            "User-Agent: KMail/1.4.1\n",
            "References: <1029944325.29456.28.camel@dubrhlnx1>\n",
            "    <26030.194.237.142.30.1029943301.squirrel@mail.nologic.org>\n",
            "In-Reply-To: <26030.194.237.142.30.1029943301.squirrel@mail.nologic.org>\n",
            "MIME-Version: 1.0\n",
            "Message-Id: <200208222058.07760.cj@nologic.org>\n",
            "Content-Transfer-Encoding: 8bit\n",
            "X-MIME-Autoconverted: from quoted-printable to 8bit by lugh.tuatha.org id\n",
            "    UAA19403\n",
            "Sender: ilug-admin@linux.ie\n",
            "Errors-To: ilug-admin@linux.ie\n",
            "X-Mailman-Version: 1.1\n",
            "Precedence: bulk\n",
            "List-Id: Irish Linux Users' Group <ilug.linux.ie>\n",
            "X-Beenthere: ilug@linux.ie\n",
            "\n",
            "Update on this for anyone that's interested, and because I like closed \n",
            "threads... nothing worse than an infinite while loop, is there?\n",
            "\n",
            "I ended up formatting a floppy on my flatmate's (un-networked) P100 running \n",
            "FAT16 Win95, and mcopied the contents of the bootdisk across. Now I have a \n",
            "FAT16 Win98 install running alongside Slackware, and can play Metal Gear \n",
            "Solid when the mood takes me ;)\n",
            "\n",
            "/Ciaran.\n",
            "\n",
            "On Wednesday 21 August 2002 16:21, Ciaran Johnston wrote:\n",
            "> Dublin said:\n",
            "> > If you copy the files from your disk to the c: partition and mark it as\n",
            "> > active it should work ...\n",
            ">\n",
            "> Yeah, I figured that, but it doesn't seem to ... well, if that's the case\n",
            "> I'll give it another g\n",
            "Body: o tonight, maybe come back with some error messages.\n",
            ">\n",
            "> Just to clarify for those who didn't understand me initially - I have a\n",
            "> floppy drive installed, but it doesn't physically work. There's nowhere\n",
            "> handy to pick one up where I am, and I don't fancy waiting a few days for\n",
            "> one to arrive from Peats.\n",
            ">\n",
            "> Thanks for the answers,\n",
            "> Ciaran.\n",
            ">\n",
            "> > You especially need io.sys, command.com and msdos.sys\n",
            "> >\n",
            "> > your cd driver .sys and read the autoexec.bat and config.sys files for\n",
            "> > hints on what you did with your boot floppy <g>\n",
            "> >\n",
            "> > P\n",
            "> >\n",
            "> > On Wed, 2002-08-21 at 14:07, Ciaran Johnston wrote:\n",
            "> >> Hi folks,\n",
            "> >> The situation is this: at home, I have a PC with 2 10Gig HDDs, and no\n",
            "> >> (working) floppy drive. I have been running Linux solely for the last\n",
            "> >> year, but recently got the urge to, among other things, play some of\n",
            "> >> my Windoze games. I normally install the windows partition using a\n",
            "> >> boot floppy which I have conveniently zipped up, but I haven't any way\n",
            "> >> of writing or reading a floppy.\n",
            "> >> So, how do I go about:\n",
            "> >> 1. formatting a C: drive with system files (normally I would use\n",
            "> >> format /s c: from the floppy).\n",
            "> >> 2. Installing the CDROM drivers (my bootdisk (I wrote it many years\n",
            "> >> ago) does this normally).\n",
            "> >> 3. Booting from the partition?\n",
            "> >>\n",
            "> >> I wiped all my linux partitions from the first drive and created\n",
            "> >> partitions for Windows (HDA1) Slackware and RedHat. I used cfdisk for\n",
            "> >> this. I made the first drive (hda) bootable. I then installed the\n",
            "> >> windows partition in LILO and reran lilo (installed in MBR). I copied\n",
            "> >> the contents of boot.zip to my new windows partition and tried to boot\n",
            "> >> it - all I get is a garbled line of squiggles.\n",
            "> >>\n",
            "> >> Anyone any ideas? I can't think of anywhere in Athlone to get a new\n",
            "> >> floppy drive this evening...\n",
            "> >>\n",
            "> >> Thanks,\n",
            "> >> Ciaran.\n",
            "> >>\n",
            "> >>\n",
            "> >>\n",
            "> >> --\n",
            "> >> Irish Linux Users' Group: ilug@linux.ie\n",
            "> >> http://www.linux.ie/mailman/listinfo/ilug for (un)subscription\n",
            "> >> information. List maintainer: listmaster@linux.ie\n",
            "\n",
            "\n",
            "-- \n",
            "Irish Linux Users' Group: ilug@linux.ie\n",
            "http://www.linux.ie/mailman/listinfo/ilug for (un)subscription information.\n",
            "List maintainer: listmaster@linux.ie\n",
            "\n",
            "\n",
            "\n",
            "\n",
            "Mail: mail11\n",
            "Header: From spamassassin-devel-admin@lists.sourceforge.net  Thu Aug 22 15:25:29 2002\n",
            "Return-Path: <spamassassin-devel-admin@example.sourceforge.net>\n",
            "Delivered-To: zzzz@localhost.netnoteinc.com\n",
            "Received: from localhost (localhost [127.0.0.1])\n",
            "\tby phobos.labs.netnoteinc.com (Postfix) with ESMTP id AE2D043F9B\n",
            "\tfor <zzzz@localhost>; Thu, 22 Aug 2002 10:25:29 -0400 (EDT)\n",
            "Received: from phobos [127.0.0.1]\n",
            "\tby localhost with IMAP (fetchmail-5.9.0)\n",
            "\tfor zzzz@localhost (single-drop); Thu, 22 Aug 2002 15:25:29 +0100 (IST)\n",
            "Received: from usw-sf-list2.sourceforge.net (usw-sf-fw2.sourceforge.net\n",
            "    [216.136.171.252]) by dogma.slashnull.org (8.11.6/8.11.6) with ESMTP id\n",
            "    g7MENlZ09984 for <zzzz@spamassassin.taint.org>; Thu, 22 Aug 2002 15:23:47 +0100\n",
            "Received: from usw-sf-list1-b.sourceforge.net ([10.3.1.13]\n",
            "    helo=usw-sf-list1.sourceforge.net) by usw-sf-list2.sourceforge.net with\n",
            "    esmtp (Exim 3.31-VA-mm2 #1 (Debian)) id 17hsof-00042r-00; Thu,\n",
            "    22 Aug 2002 07:20:05 -0700\n",
            "Received: from vivi.uptime.at ([62.116.87.11] helo=mail.uptime.at) by\n",
            "    usw-sf-list1.sourceforge.net with esmtp (Exim 3.31-VA-mm2 #1 (Debian)) id\n",
            "    17hsoM-0000Ge-00 for <spamassassin-devel@lists.sourceforge.net>;\n",
            "    Thu, 22 Aug 2002 07:19:47 -0700\n",
            "Received: from [192.168.0.4] (chello062178142216.4.14.vie.surfer.at\n",
            "    [62.178.142.216]) (authenticated bits=0) by mail.uptime.at (8.12.5/8.12.5)\n",
            "    with ESMTP id g7MEI7Vp022036 for\n",
            "    <spamassassin-devel@lists.sourceforge.net>; Thu, 22 Aug 2002 16:18:07\n",
            "    +0200\n",
            "User-Agent: Microsoft-Entourage/10.0.0.1309\n",
            "From: David H=?ISO-8859-1?B?9g==?=hn <dh@uptime.at>\n",
            "To: <spamassassin-devel@example\n",
            "Body: .sourceforge.net>\n",
            "Message-Id: <B98ABFA4.1F87%dh@uptime.at>\n",
            "MIME-Version: 1.0\n",
            "X-Trusted: YES\n",
            "X-From-Laptop: YES\n",
            "Content-Type: text/plain; charset=\"US-ASCII\"\n",
            "Content-Transfer-Encoding: 7bit\n",
            "X-Mailscanner: Nothing found, baby\n",
            "Subject: [SAdev] Interesting approach to Spam handling..\n",
            "Sender: spamassassin-devel-admin@example.sourceforge.net\n",
            "Errors-To: spamassassin-devel-admin@example.sourceforge.net\n",
            "X-Beenthere: spamassassin-devel@example.sourceforge.net\n",
            "X-Mailman-Version: 2.0.9-sf.net\n",
            "Precedence: bulk\n",
            "List-Help: <mailto:spamassassin-devel-request@example.sourceforge.net?subject=help>\n",
            "List-Post: <mailto:spamassassin-devel@example.sourceforge.net>\n",
            "List-Subscribe: <https://example.sourceforge.net/lists/listinfo/spamassassin-devel>,\n",
            "    <mailto:spamassassin-devel-request@lists.sourceforge.net?subject=subscribe>\n",
            "List-Id: SpamAssassin Developers <spamassassin-devel.example.sourceforge.net>\n",
            "List-Unsubscribe: <https://example.sourceforge.net/lists/listinfo/spamassassin-devel>,\n",
            "    <mailto:spamassassin-devel-request@lists.sourceforge.net?subject=unsubscribe>\n",
            "List-Archive: <http://www.geocrawler.com/redir-sf.php3?list=spamassassin-devel>\n",
            "X-Original-Date: Thu, 22 Aug 2002 16:19:48 +0200\n",
            "Date: Thu, 22 Aug 2002 16:19:48 +0200\n",
            "\n",
            "Hello, have you seen and discussed this article and his approach?\n",
            "\n",
            "Thank you\n",
            "\n",
            "http://www.paulgraham.com/spam.html\n",
            "-- \"Hell, there are no rules here-- we're trying to accomplish something.\"\n",
            "-- Thomas Alva Edison\n",
            "\n",
            "\n",
            "\n",
            "\n",
            "-------------------------------------------------------\n",
            "This sf.net email is sponsored by: OSDN - Tired of that same old\n",
            "cell phone?  Get a new here for FREE!\n",
            "https://www.inphonic.com/r.asp?r=sourceforge1&refcode1=vs3390\n",
            "_______________________________________________\n",
            "Spamassassin-devel mailing list\n",
            "Spamassassin-devel@lists.sourceforge.net\n",
            "https://lists.sourceforge.net/lists/listinfo/spamassassin-devel\n",
            "\n",
            "\n",
            "\n",
            "\n"
          ]
        }
      ],
      "source": [
        "# Getting mails names\n",
        "mail_iter = files_iter(DATA_DIR, with_name=True)\n",
        "\n",
        "if not os.path.exists(SEGMENTED_DIR):\n",
        "    os.mkdir(SEGMENTED_DIR)\n",
        "\n",
        "# Call the function and look at the result of segmentation\n",
        "for name_file, data in mail_iter:\n",
        "    if name_file in ['mail11', 'mail30']:\n",
        "        header, body = segment_mail_new(name_file, DATA_DIR, RES_DIR)\n",
        "        print(\"Mail:\", name_file)\n",
        "        print(\"Header:\", \"\".join(header))\n",
        "        print(\"Body:\", \"\".join(body))\n",
        "        print(\"\\n\")"
      ]
    },
    {
      "cell_type": "markdown",
      "metadata": {},
      "source": [
        "### Question 5"
      ]
    },
    {
      "cell_type": "markdown",
      "metadata": {},
      "source": [
        "The only modification  will be the size of the matrix. In the case of Separating in 3 parts (header, body, signature), we will have:\n",
        "\n",
        "$$\\pi = \n",
        "\\begin{pmatrix} \n",
        "1\\\\\n",
        "0\\\\\n",
        "0\n",
        "\\end{pmatrix}$$\n",
        "\n",
        "owing to an email can't begin directmly by the body or the signature.\n",
        "We can also give a possible expression for the transsition matrix:\n",
        "\n",
        "$$A = \n",
        "\\begin{pmatrix}\n",
        "a_{11} & a_{12} & 0\\\\\n",
        "0 & a_{22} & a_{23}\\\\\n",
        "0 & 0 & 1\\\\\n",
        "\\end{pmatrix}\n",
        "$$\n",
        "\n",
        "Indeed, $a_{13}$ is equal to zero because it is impossible to move from header to signature without body as an intermediary state.\n",
        "In the same way as before, it is impossible to go back from body to header.\n",
        "And when you are in the signature, you can't go back to header or even body.\n",
        "\n",
        "Another change, will be the matrix B which his size become $256\\times3$."
      ]
    },
    {
      "cell_type": "markdown",
      "metadata": {},
      "source": []
    },
    {
      "cell_type": "markdown",
      "metadata": {},
      "source": [
        "### Question 6"
      ]
    },
    {
      "cell_type": "markdown",
      "metadata": {},
      "source": [
        "We need a 4th state, mail_included, which comes before the signature of the mail. There are few modifications on initial probability vector and transition matrix:\n",
        "\n",
        "$$\\pi = \n",
        "\\begin{pmatrix}\n",
        "1\\\\\n",
        "0\\\\\n",
        "0\\\\\n",
        "0\\\\\n",
        "\\end{pmatrix}$$\n",
        "\n",
        "$$ A = \\begin{bmatrix} \n",
        "p_{11} & p_{12} & p_{13} & 0 \\\\\n",
        "0 & p_{22} & p_{23} & p_{24}\\\\\n",
        "0 & p_{32} & p_{33} & p_{34}\\\\\n",
        "0 & 0 & 0 & 1\n",
        "\\end{bmatrix}$$\n",
        "\n",
        "Moreover, knowing that the mail included always starts with character \">\", the probability of the character being on state 3 is higher than in the other states. This information should be included in the conditional probability matrix `B` which size become $256\\times4$."
      ]
    }
  ],
  "metadata": {
    "colab": {
      "provenance": []
    },
    "kernelspec": {
      "display_name": "Python 3 (ipykernel)",
      "language": "python",
      "name": "python3"
    },
    "language_info": {
      "codemirror_mode": {
        "name": "ipython",
        "version": 3
      },
      "file_extension": ".py",
      "mimetype": "text/x-python",
      "name": "python",
      "nbconvert_exporter": "python",
      "pygments_lexer": "ipython3",
      "version": "3.11.5"
    }
  },
  "nbformat": 4,
  "nbformat_minor": 0
}
